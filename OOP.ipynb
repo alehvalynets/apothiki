{
 "cells": [
  {
   "cell_type": "code",
   "execution_count": 1,
   "metadata": {},
   "outputs": [],
   "source": [
    "# Создаем класс Car\n",
    "class Car:\n",
    "\n",
    "    # создаем атрибуты класса\n",
    "    name = \"c200\"\n",
    "    make = \"mercedez\"\n",
    "    model = 2008\n",
    "\n",
    "    # создаем методы класса\n",
    "    def start(self):\n",
    "        print (\"Заводим двигатель\")\n",
    "\n",
    "    def stop(self):\n",
    "        print (\"Отключаем двигатель\")"
   ]
  },
  {
   "cell_type": "code",
   "execution_count": 2,
   "metadata": {},
   "outputs": [],
   "source": [
    "# Создаем объект класса Car под названием car_a\n",
    "car_a = Car()\n",
    " \n",
    "# Создаем объект класса Car под названием car_b\n",
    "car_b = Car()"
   ]
  },
  {
   "cell_type": "code",
   "execution_count": 3,
   "metadata": {},
   "outputs": [
    {
     "name": "stdout",
     "output_type": "stream",
     "text": [
      "<class '__main__.Car'>\n"
     ]
    }
   ],
   "source": [
    "print(type(car_b))"
   ]
  },
  {
   "cell_type": "code",
   "execution_count": 4,
   "metadata": {},
   "outputs": [
    {
     "name": "stdout",
     "output_type": "stream",
     "text": [
      "Заводим двигатель\n"
     ]
    }
   ],
   "source": [
    "car_b.start()"
   ]
  },
  {
   "cell_type": "code",
   "execution_count": 5,
   "metadata": {},
   "outputs": [
    {
     "name": "stdout",
     "output_type": "stream",
     "text": [
      "2008\n"
     ]
    }
   ],
   "source": [
    "print(car_b.model)"
   ]
  },
  {
   "cell_type": "code",
   "execution_count": 6,
   "metadata": {},
   "outputs": [
    {
     "name": "stdout",
     "output_type": "stream",
     "text": [
      "['__class__', '__delattr__', '__dict__', '__dir__', '__doc__', '__eq__', '__format__', '__ge__', '__getattribute__', '__gt__', '__hash__', '__init__', '__init_subclass__', '__le__', '__lt__', '__module__', '__ne__', '__new__', '__reduce__', '__reduce_ex__', '__repr__', '__setattr__', '__sizeof__', '__str__', '__subclasshook__', '__weakref__', 'make', 'model', 'name', 'start', 'stop']\n"
     ]
    }
   ],
   "source": [
    "print(dir(car_b))"
   ]
  },
  {
   "cell_type": "code",
   "execution_count": 8,
   "metadata": {},
   "outputs": [],
   "source": [
    "class Car:\n",
    " \n",
    "    # создаем атрибуты класса\n",
    "    car_count = 0\n",
    "    \n",
    "    # создаем методы класса\n",
    "    def start(self, name, make, model):\n",
    "        print(\"Двигатель заведен\")\n",
    "        self.name = name\n",
    "        self.make = make\n",
    "        self.model = model\n",
    "        Car.car_count += 1"
   ]
  },
  {
   "cell_type": "code",
   "execution_count": 9,
   "metadata": {},
   "outputs": [
    {
     "name": "stdout",
     "output_type": "stream",
     "text": [
      "Двигатель заведен\n",
      "Corrola\n",
      "1\n"
     ]
    }
   ],
   "source": [
    "car_a = Car()  \n",
    "car_a.start(\"Corrola\", \"Toyota\", 2015)  \n",
    "print(car_a.name)  \n",
    "print(car_a.car_count)"
   ]
  },
  {
   "cell_type": "code",
   "execution_count": 10,
   "metadata": {},
   "outputs": [
    {
     "name": "stdout",
     "output_type": "stream",
     "text": [
      "Двигатель заведен\n",
      "City\n",
      "2\n"
     ]
    }
   ],
   "source": [
    "car_b = Car()  \n",
    "car_b.start(\"City\", \"Honda\", 2013)  \n",
    "print(car_b.name)  \n",
    "print(car_b.car_count)"
   ]
  },
  {
   "cell_type": "code",
   "execution_count": 11,
   "metadata": {},
   "outputs": [
    {
     "name": "stdout",
     "output_type": "stream",
     "text": [
      "Это класс Car\n"
     ]
    }
   ],
   "source": [
    "class Car:\n",
    " \n",
    "    @staticmethod\n",
    "    def get_class_details():\n",
    "        print (\"Это класс Car\")\n",
    " \n",
    "Car.get_class_details()"
   ]
  },
  {
   "cell_type": "code",
   "execution_count": null,
   "metadata": {},
   "outputs": [],
   "source": []
  }
 ],
 "metadata": {
  "kernelspec": {
   "display_name": "Python 3",
   "language": "python",
   "name": "python3"
  },
  "language_info": {
   "codemirror_mode": {
    "name": "ipython",
    "version": 3
   },
   "file_extension": ".py",
   "mimetype": "text/x-python",
   "name": "python",
   "nbconvert_exporter": "python",
   "pygments_lexer": "ipython3",
   "version": "3.6.8"
  }
 },
 "nbformat": 4,
 "nbformat_minor": 2
}
